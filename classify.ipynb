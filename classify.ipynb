{
 "cells": [
  {
   "cell_type": "markdown",
   "source": [
    "# 1. Libraries"
   ],
   "metadata": {}
  },
  {
   "cell_type": "code",
   "execution_count": 7,
   "source": [
    "import splusdata #Please certify that you have the latest version (> 3.83) of splusdata installed! \n",
    "from getpass import getpass\n",
    "from splusdata.vacs import SQGClass\n",
    "from astropy.table import Table\n",
    "import pandas as pd"
   ],
   "outputs": [],
   "metadata": {}
  },
  {
   "cell_type": "markdown",
   "source": [
    "# 2. Read data"
   ],
   "metadata": {}
  },
  {
   "cell_type": "markdown",
   "source": [
    "## Option 1: Read data from S-PLUS query"
   ],
   "metadata": {}
  },
  {
   "cell_type": "code",
   "execution_count": 2,
   "source": [
    "login = 'marixko' #INSERT YOUR S-PLUS LOGIN HERE (register: https://splus.cloud)\n",
    "pswd = getpass() #this will ask for your password\n",
    "conn = splusdata.connect(login, pswd)"
   ],
   "outputs": [
    {
     "output_type": "stream",
     "name": "stdout",
     "text": [
      "You have access to internal data\n"
     ]
    }
   ],
   "metadata": {}
  },
  {
   "cell_type": "code",
   "execution_count": null,
   "source": [
    "field = 'SPLUS-s29s34'\n",
    "\n",
    "query = f\"\"\"select det.id, det.ra, det.dec, det.fwhm_n, det.a, det.b, det.kron_radius, u.u_iso,\n",
    "\t\t\t\t\t\tz.z_iso, g.g_iso, r.r_iso, i.i_iso,\n",
    "\t\t\t\t\t\tj0378.j0378_iso, j0395.j0395_iso, j0410.j0410_iso, \n",
    "\t\t\t\t\t\tj0430.j0430_iso, j0515.j0515_iso,  j0660.j0660_iso, \n",
    "\t\t\t\t\t\tj0861.j0861_iso from idr3.detection_image as det join\n",
    "\t\t\t\t\t\tidr3.g_band as g on g.id = det.id join\n",
    "\t\t\t\t\t\tidr3.z_band as z on z.id = det.id join\n",
    "\t\t\t\t\t\tidr3.r_band as r on r.id = det.id join\n",
    "\t\t\t\t\t\tidr3.i_band as i on i.id = det.id join\n",
    "\t\t\t\t\t\tidr3.u_band as u on u.id = det.id join\n",
    "\t\t\t\t\t\tidr3.j0378_band as j0378 on j0378.id = det.id join\n",
    "\t\t\t\t\t\tidr3.j0395_band as j0395 on j0395.id = det.id join\n",
    "\t\t\t\t\t\tidr3.j0410_band as j0410 on j0410.id = det.id join\n",
    "\t\t\t\t\t\tidr3.j0430_band as j0430 on j0430.id = det.id join\n",
    "\t\t\t\t\t\tidr3.j0515_band as j0515 on j0515.id = det.id join\n",
    "\t\t\t\t\t\tidr3.j0660_band as j0660 on j0660.id = det.id join\n",
    "\t\t\t\t\t\tidr3.j0861_band as j0861 on j0861.id = det.id \n",
    "\t\t\t\t\t\twhere det.field = '{field}'\"\"\"\n"
   ],
   "outputs": [],
   "metadata": {}
  },
  {
   "cell_type": "code",
   "execution_count": null,
   "source": [
    "data = conn.query(query)"
   ],
   "outputs": [
    {
     "output_type": "stream",
     "name": "stdout",
     "text": [
      "finished\n"
     ]
    }
   ],
   "metadata": {}
  },
  {
   "cell_type": "code",
   "execution_count": null,
   "source": [
    "#Save data to csv:\n",
    "#data.to_pandas().to_csv(\"SPLUS-s29s34.csv\", sep=\",\", index=False)"
   ],
   "outputs": [],
   "metadata": {}
  },
  {
   "cell_type": "markdown",
   "source": [
    "## Option 2: Read data from folder"
   ],
   "metadata": {}
  },
  {
   "cell_type": "code",
   "execution_count": 3,
   "source": [
    "data = pd.read_table(\"SPLUS-s29s34.csv\", sep=\",\")"
   ],
   "outputs": [],
   "metadata": {}
  },
  {
   "cell_type": "markdown",
   "source": [
    "# 3. Extinction correction (necessary step!)"
   ],
   "metadata": {}
  },
  {
   "cell_type": "code",
   "execution_count": 4,
   "source": [
    "from utils.extinction import correction\n",
    "data = correction(data, save=False)"
   ],
   "outputs": [],
   "metadata": {}
  },
  {
   "cell_type": "markdown",
   "source": [
    "# 4. Classifying S-PLUS fields (Nakazono et al. 2021)"
   ],
   "metadata": {}
  },
  {
   "cell_type": "markdown",
   "source": [
    "Before proceeding, please make sure that your data are previously corrected to extinction. Below we show three possible outputs by stipulating:\n",
    "\n",
    "- model = \"auto\": the best classification will be returned (default and most recommended)\n",
    "- model = \"RF18\": this classifier needs both S-PLUS and WISE features and the performance is usually better than RF16 (see Nakazono et al. 2021 for more details)\n",
    "- model = \"RF16\": this classifier needs only S-PLUS features and can be used for objects without WISE counterpart\n"
   ],
   "metadata": {}
  },
  {
   "cell_type": "markdown",
   "source": [
    "Initialize SQGClass as:"
   ],
   "metadata": {}
  },
  {
   "cell_type": "code",
   "execution_count": 5,
   "source": [
    "clf_auto = SQGClass(verbose=True)\n",
    "clf_splus = SQGClass(model = \"RF16\", verbose=True)\n",
    "clf_splus_wise = SQGClass(model = \"RF18\", verbose=True)"
   ],
   "outputs": [
    {
     "output_type": "stream",
     "name": "stdout",
     "text": [
      "Loading both models...\n"
     ]
    },
    {
     "output_type": "stream",
     "name": "stderr",
     "text": [
      "/home/mariko/anaconda3/envs/research/lib/python3.9/site-packages/sklearn/base.py:310: UserWarning: Trying to unpickle estimator DecisionTreeClassifier from version 0.24.1 when using version 0.24.2. This might lead to breaking code or invalid results. Use at your own risk.\n",
      "  warnings.warn(\n",
      "/home/mariko/anaconda3/envs/research/lib/python3.9/site-packages/sklearn/base.py:310: UserWarning: Trying to unpickle estimator RandomForestClassifier from version 0.24.1 when using version 0.24.2. This might lead to breaking code or invalid results. Use at your own risk.\n",
      "  warnings.warn(\n"
     ]
    },
    {
     "output_type": "stream",
     "name": "stdout",
     "text": [
      "Loading model...\n",
      "Loading model...\n"
     ]
    }
   ],
   "metadata": {}
  },
  {
   "cell_type": "markdown",
   "source": [
    "For clf_auto and clf_splus_wise, one must provide the W1 and W2 magnitudes from ALLWISE. We recommend that you set match_irsa = True, therefore it will automatically query from ALLWISE and cross-match with S-PLUS. \n",
    "To do so, please ensure that you run classify() one S-PLUS field per time, at maximum."
   ],
   "metadata": {}
  },
  {
   "cell_type": "code",
   "execution_count": 6,
   "source": [
    "results = clf_auto.classify(data, match_irsa = True)\n",
    "results"
   ],
   "outputs": [
    {
     "output_type": "stream",
     "name": "stdout",
     "text": [
      "Querying ALLWISE catalogue via TapPlus(url='https://irsa.ipac.caltech.edu/TAP')...\n",
      "Note that irsa_query() is not yet optimized for large data inputs. Please consider running classify() per S-PLUS field if irsa_query()=True.\n",
      "Created TAP+ (v1.2.1) - Connection:\n",
      "\tHost: irsa.ipac.caltech.edu\n",
      "\tUse HTTPS: True\n",
      "\tPort: 443\n",
      "\tSSL Port: 443\n",
      "INFO: Query finished. [astroquery.utils.tap.core]\n",
      "Starting cross-match...\n"
     ]
    },
    {
     "output_type": "execute_result",
     "data": {
      "text/plain": [
       "       CLASS model_flag  PROB_QSO  PROB_STAR  PROB_GAL\n",
       "0        0.0          1     0.540       0.20     0.260\n",
       "1        0.0          1     0.585       0.19     0.225\n",
       "2        2.0          1     0.450       0.09     0.460\n",
       "3        0.0          1     0.460       0.19     0.350\n",
       "4        0.0          1     0.505       0.27     0.225\n",
       "...      ...        ...       ...        ...       ...\n",
       "62738    0.0          1     0.500       0.09     0.410\n",
       "62739    2.0          0     0.050       0.15     0.800\n",
       "62740    2.0          0     0.060       0.02     0.920\n",
       "62741    2.0          1     0.240       0.10     0.660\n",
       "62742    2.0          1     0.150       0.11     0.740\n",
       "\n",
       "[62743 rows x 5 columns]"
      ],
      "text/html": [
       "<div>\n",
       "<style scoped>\n",
       "    .dataframe tbody tr th:only-of-type {\n",
       "        vertical-align: middle;\n",
       "    }\n",
       "\n",
       "    .dataframe tbody tr th {\n",
       "        vertical-align: top;\n",
       "    }\n",
       "\n",
       "    .dataframe thead th {\n",
       "        text-align: right;\n",
       "    }\n",
       "</style>\n",
       "<table border=\"1\" class=\"dataframe\">\n",
       "  <thead>\n",
       "    <tr style=\"text-align: right;\">\n",
       "      <th></th>\n",
       "      <th>CLASS</th>\n",
       "      <th>model_flag</th>\n",
       "      <th>PROB_QSO</th>\n",
       "      <th>PROB_STAR</th>\n",
       "      <th>PROB_GAL</th>\n",
       "    </tr>\n",
       "  </thead>\n",
       "  <tbody>\n",
       "    <tr>\n",
       "      <th>0</th>\n",
       "      <td>0.0</td>\n",
       "      <td>1</td>\n",
       "      <td>0.540</td>\n",
       "      <td>0.20</td>\n",
       "      <td>0.260</td>\n",
       "    </tr>\n",
       "    <tr>\n",
       "      <th>1</th>\n",
       "      <td>0.0</td>\n",
       "      <td>1</td>\n",
       "      <td>0.585</td>\n",
       "      <td>0.19</td>\n",
       "      <td>0.225</td>\n",
       "    </tr>\n",
       "    <tr>\n",
       "      <th>2</th>\n",
       "      <td>2.0</td>\n",
       "      <td>1</td>\n",
       "      <td>0.450</td>\n",
       "      <td>0.09</td>\n",
       "      <td>0.460</td>\n",
       "    </tr>\n",
       "    <tr>\n",
       "      <th>3</th>\n",
       "      <td>0.0</td>\n",
       "      <td>1</td>\n",
       "      <td>0.460</td>\n",
       "      <td>0.19</td>\n",
       "      <td>0.350</td>\n",
       "    </tr>\n",
       "    <tr>\n",
       "      <th>4</th>\n",
       "      <td>0.0</td>\n",
       "      <td>1</td>\n",
       "      <td>0.505</td>\n",
       "      <td>0.27</td>\n",
       "      <td>0.225</td>\n",
       "    </tr>\n",
       "    <tr>\n",
       "      <th>...</th>\n",
       "      <td>...</td>\n",
       "      <td>...</td>\n",
       "      <td>...</td>\n",
       "      <td>...</td>\n",
       "      <td>...</td>\n",
       "    </tr>\n",
       "    <tr>\n",
       "      <th>62738</th>\n",
       "      <td>0.0</td>\n",
       "      <td>1</td>\n",
       "      <td>0.500</td>\n",
       "      <td>0.09</td>\n",
       "      <td>0.410</td>\n",
       "    </tr>\n",
       "    <tr>\n",
       "      <th>62739</th>\n",
       "      <td>2.0</td>\n",
       "      <td>0</td>\n",
       "      <td>0.050</td>\n",
       "      <td>0.15</td>\n",
       "      <td>0.800</td>\n",
       "    </tr>\n",
       "    <tr>\n",
       "      <th>62740</th>\n",
       "      <td>2.0</td>\n",
       "      <td>0</td>\n",
       "      <td>0.060</td>\n",
       "      <td>0.02</td>\n",
       "      <td>0.920</td>\n",
       "    </tr>\n",
       "    <tr>\n",
       "      <th>62741</th>\n",
       "      <td>2.0</td>\n",
       "      <td>1</td>\n",
       "      <td>0.240</td>\n",
       "      <td>0.10</td>\n",
       "      <td>0.660</td>\n",
       "    </tr>\n",
       "    <tr>\n",
       "      <th>62742</th>\n",
       "      <td>2.0</td>\n",
       "      <td>1</td>\n",
       "      <td>0.150</td>\n",
       "      <td>0.11</td>\n",
       "      <td>0.740</td>\n",
       "    </tr>\n",
       "  </tbody>\n",
       "</table>\n",
       "<p>62743 rows × 5 columns</p>\n",
       "</div>"
      ]
     },
     "metadata": {},
     "execution_count": 6
    }
   ],
   "metadata": {}
  },
  {
   "cell_type": "code",
   "execution_count": 8,
   "source": [
    "results = clf_splus_wise.classify(data, match_irsa = True)\n",
    "results"
   ],
   "outputs": [
    {
     "output_type": "stream",
     "name": "stdout",
     "text": [
      "Querying ALLWISE catalogue via TapPlus(url='https://irsa.ipac.caltech.edu/TAP')...\n",
      "Note that irsa_query() is not yet optimized for large data inputs. Please consider running classify() per S-PLUS field if irsa_query()=True.\n",
      "Created TAP+ (v1.2.1) - Connection:\n",
      "\tHost: irsa.ipac.caltech.edu\n",
      "\tUse HTTPS: True\n",
      "\tPort: 443\n",
      "\tSSL Port: 443\n",
      "INFO: Query finished. [astroquery.utils.tap.core]\n",
      "Starting cross-match...\n"
     ]
    },
    {
     "output_type": "execute_result",
     "data": {
      "text/plain": [
       "       CLASS  PROB_QSO  PROB_STAR  PROB_GAL\n",
       "21         2     0.330       0.07     0.600\n",
       "24         2     0.040       0.22     0.740\n",
       "35         2     0.010       0.00     0.990\n",
       "41         0     0.480       0.13     0.390\n",
       "55         0     0.605       0.02     0.375\n",
       "...      ...       ...        ...       ...\n",
       "62733      0     0.600       0.06     0.340\n",
       "62734      2     0.000       0.02     0.980\n",
       "62737      1     0.000       1.00     0.000\n",
       "62739      2     0.050       0.15     0.800\n",
       "62740      2     0.060       0.02     0.920\n",
       "\n",
       "[18848 rows x 4 columns]"
      ],
      "text/html": [
       "<div>\n",
       "<style scoped>\n",
       "    .dataframe tbody tr th:only-of-type {\n",
       "        vertical-align: middle;\n",
       "    }\n",
       "\n",
       "    .dataframe tbody tr th {\n",
       "        vertical-align: top;\n",
       "    }\n",
       "\n",
       "    .dataframe thead th {\n",
       "        text-align: right;\n",
       "    }\n",
       "</style>\n",
       "<table border=\"1\" class=\"dataframe\">\n",
       "  <thead>\n",
       "    <tr style=\"text-align: right;\">\n",
       "      <th></th>\n",
       "      <th>CLASS</th>\n",
       "      <th>PROB_QSO</th>\n",
       "      <th>PROB_STAR</th>\n",
       "      <th>PROB_GAL</th>\n",
       "    </tr>\n",
       "  </thead>\n",
       "  <tbody>\n",
       "    <tr>\n",
       "      <th>21</th>\n",
       "      <td>2</td>\n",
       "      <td>0.330</td>\n",
       "      <td>0.07</td>\n",
       "      <td>0.600</td>\n",
       "    </tr>\n",
       "    <tr>\n",
       "      <th>24</th>\n",
       "      <td>2</td>\n",
       "      <td>0.040</td>\n",
       "      <td>0.22</td>\n",
       "      <td>0.740</td>\n",
       "    </tr>\n",
       "    <tr>\n",
       "      <th>35</th>\n",
       "      <td>2</td>\n",
       "      <td>0.010</td>\n",
       "      <td>0.00</td>\n",
       "      <td>0.990</td>\n",
       "    </tr>\n",
       "    <tr>\n",
       "      <th>41</th>\n",
       "      <td>0</td>\n",
       "      <td>0.480</td>\n",
       "      <td>0.13</td>\n",
       "      <td>0.390</td>\n",
       "    </tr>\n",
       "    <tr>\n",
       "      <th>55</th>\n",
       "      <td>0</td>\n",
       "      <td>0.605</td>\n",
       "      <td>0.02</td>\n",
       "      <td>0.375</td>\n",
       "    </tr>\n",
       "    <tr>\n",
       "      <th>...</th>\n",
       "      <td>...</td>\n",
       "      <td>...</td>\n",
       "      <td>...</td>\n",
       "      <td>...</td>\n",
       "    </tr>\n",
       "    <tr>\n",
       "      <th>62733</th>\n",
       "      <td>0</td>\n",
       "      <td>0.600</td>\n",
       "      <td>0.06</td>\n",
       "      <td>0.340</td>\n",
       "    </tr>\n",
       "    <tr>\n",
       "      <th>62734</th>\n",
       "      <td>2</td>\n",
       "      <td>0.000</td>\n",
       "      <td>0.02</td>\n",
       "      <td>0.980</td>\n",
       "    </tr>\n",
       "    <tr>\n",
       "      <th>62737</th>\n",
       "      <td>1</td>\n",
       "      <td>0.000</td>\n",
       "      <td>1.00</td>\n",
       "      <td>0.000</td>\n",
       "    </tr>\n",
       "    <tr>\n",
       "      <th>62739</th>\n",
       "      <td>2</td>\n",
       "      <td>0.050</td>\n",
       "      <td>0.15</td>\n",
       "      <td>0.800</td>\n",
       "    </tr>\n",
       "    <tr>\n",
       "      <th>62740</th>\n",
       "      <td>2</td>\n",
       "      <td>0.060</td>\n",
       "      <td>0.02</td>\n",
       "      <td>0.920</td>\n",
       "    </tr>\n",
       "  </tbody>\n",
       "</table>\n",
       "<p>18848 rows × 4 columns</p>\n",
       "</div>"
      ]
     },
     "metadata": {},
     "execution_count": 8
    }
   ],
   "metadata": {}
  },
  {
   "cell_type": "code",
   "execution_count": 9,
   "source": [
    "results = clf_splus.classify(data, match_irsa = True)\n",
    "results"
   ],
   "outputs": [
    {
     "output_type": "stream",
     "name": "stdout",
     "text": [
      "Parameter match_irsa is being set automatically to false.\n"
     ]
    },
    {
     "output_type": "execute_result",
     "data": {
      "text/plain": [
       "       CLASS  PROB_QSO  PROB_STAR  PROB_GAL\n",
       "0        0.0     0.540       0.20     0.260\n",
       "1        0.0     0.585       0.19     0.225\n",
       "2        2.0     0.450       0.09     0.460\n",
       "3        0.0     0.460       0.19     0.350\n",
       "4        0.0     0.505       0.27     0.225\n",
       "...      ...       ...        ...       ...\n",
       "62738    0.0     0.500       0.09     0.410\n",
       "62739    2.0     0.020       0.03     0.950\n",
       "62740    2.0     0.045       0.04     0.915\n",
       "62741    2.0     0.240       0.10     0.660\n",
       "62742    2.0     0.150       0.11     0.740\n",
       "\n",
       "[62743 rows x 4 columns]"
      ],
      "text/html": [
       "<div>\n",
       "<style scoped>\n",
       "    .dataframe tbody tr th:only-of-type {\n",
       "        vertical-align: middle;\n",
       "    }\n",
       "\n",
       "    .dataframe tbody tr th {\n",
       "        vertical-align: top;\n",
       "    }\n",
       "\n",
       "    .dataframe thead th {\n",
       "        text-align: right;\n",
       "    }\n",
       "</style>\n",
       "<table border=\"1\" class=\"dataframe\">\n",
       "  <thead>\n",
       "    <tr style=\"text-align: right;\">\n",
       "      <th></th>\n",
       "      <th>CLASS</th>\n",
       "      <th>PROB_QSO</th>\n",
       "      <th>PROB_STAR</th>\n",
       "      <th>PROB_GAL</th>\n",
       "    </tr>\n",
       "  </thead>\n",
       "  <tbody>\n",
       "    <tr>\n",
       "      <th>0</th>\n",
       "      <td>0.0</td>\n",
       "      <td>0.540</td>\n",
       "      <td>0.20</td>\n",
       "      <td>0.260</td>\n",
       "    </tr>\n",
       "    <tr>\n",
       "      <th>1</th>\n",
       "      <td>0.0</td>\n",
       "      <td>0.585</td>\n",
       "      <td>0.19</td>\n",
       "      <td>0.225</td>\n",
       "    </tr>\n",
       "    <tr>\n",
       "      <th>2</th>\n",
       "      <td>2.0</td>\n",
       "      <td>0.450</td>\n",
       "      <td>0.09</td>\n",
       "      <td>0.460</td>\n",
       "    </tr>\n",
       "    <tr>\n",
       "      <th>3</th>\n",
       "      <td>0.0</td>\n",
       "      <td>0.460</td>\n",
       "      <td>0.19</td>\n",
       "      <td>0.350</td>\n",
       "    </tr>\n",
       "    <tr>\n",
       "      <th>4</th>\n",
       "      <td>0.0</td>\n",
       "      <td>0.505</td>\n",
       "      <td>0.27</td>\n",
       "      <td>0.225</td>\n",
       "    </tr>\n",
       "    <tr>\n",
       "      <th>...</th>\n",
       "      <td>...</td>\n",
       "      <td>...</td>\n",
       "      <td>...</td>\n",
       "      <td>...</td>\n",
       "    </tr>\n",
       "    <tr>\n",
       "      <th>62738</th>\n",
       "      <td>0.0</td>\n",
       "      <td>0.500</td>\n",
       "      <td>0.09</td>\n",
       "      <td>0.410</td>\n",
       "    </tr>\n",
       "    <tr>\n",
       "      <th>62739</th>\n",
       "      <td>2.0</td>\n",
       "      <td>0.020</td>\n",
       "      <td>0.03</td>\n",
       "      <td>0.950</td>\n",
       "    </tr>\n",
       "    <tr>\n",
       "      <th>62740</th>\n",
       "      <td>2.0</td>\n",
       "      <td>0.045</td>\n",
       "      <td>0.04</td>\n",
       "      <td>0.915</td>\n",
       "    </tr>\n",
       "    <tr>\n",
       "      <th>62741</th>\n",
       "      <td>2.0</td>\n",
       "      <td>0.240</td>\n",
       "      <td>0.10</td>\n",
       "      <td>0.660</td>\n",
       "    </tr>\n",
       "    <tr>\n",
       "      <th>62742</th>\n",
       "      <td>2.0</td>\n",
       "      <td>0.150</td>\n",
       "      <td>0.11</td>\n",
       "      <td>0.740</td>\n",
       "    </tr>\n",
       "  </tbody>\n",
       "</table>\n",
       "<p>62743 rows × 4 columns</p>\n",
       "</div>"
      ]
     },
     "metadata": {},
     "execution_count": 9
    }
   ],
   "metadata": {}
  },
  {
   "cell_type": "code",
   "execution_count": null,
   "source": [],
   "outputs": [],
   "metadata": {}
  }
 ],
 "metadata": {
  "orig_nbformat": 4,
  "language_info": {
   "name": "python",
   "version": "3.9.2",
   "mimetype": "text/x-python",
   "codemirror_mode": {
    "name": "ipython",
    "version": 3
   },
   "pygments_lexer": "ipython3",
   "nbconvert_exporter": "python",
   "file_extension": ".py"
  },
  "kernelspec": {
   "name": "python3",
   "display_name": "Python 3.9.2 64-bit ('research': conda)"
  },
  "interpreter": {
   "hash": "d835d3b4df3004842224aead0de621452dc77f92b4e30c40cd3866652e615a60"
  }
 },
 "nbformat": 4,
 "nbformat_minor": 2
}